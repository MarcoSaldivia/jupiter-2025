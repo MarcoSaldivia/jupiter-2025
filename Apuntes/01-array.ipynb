{
 "cells": [
  {
   "cell_type": "markdown",
   "metadata": {
    "id": "ocscI_8pstEa"
   },
   "source": [
    "##IMPORTANDO LIBRERIAS"
   ]
  },
  {
   "cell_type": "code",
   "execution_count": 1,
   "metadata": {
    "executionInfo": {
     "elapsed": 16,
     "status": "ok",
     "timestamp": 1750880870357,
     "user": {
      "displayName": "Marco Antonio Saldivia Mansilla",
      "userId": "16213939124838125821"
     },
     "user_tz": 240
    },
    "id": "5A5eaboIjB4Q"
   },
   "outputs": [],
   "source": [
    "import numpy as np  #El np es un alias del nombre de la biblioteca numpy\n",
    "import sys"
   ]
  },
  {
   "cell_type": "markdown",
   "metadata": {
    "id": "6SnoDQ49wHaL"
   },
   "source": [
    "### Creando una lista de 10 Elementos"
   ]
  },
  {
   "cell_type": "code",
   "execution_count": 2,
   "metadata": {
    "colab": {
     "base_uri": "https://localhost:8080/"
    },
    "executionInfo": {
     "elapsed": 11,
     "status": "ok",
     "timestamp": 1750882263100,
     "user": {
      "displayName": "Marco Antonio Saldivia Mansilla",
      "userId": "16213939124838125821"
     },
     "user_tz": 240
    },
    "id": "Pxl9SxoJih_b",
    "outputId": "f45498b5-edff-4f9f-d332-c7106afa6cb4"
   },
   "outputs": [
    {
     "data": {
      "text/plain": [
       "[1, 2, 3, 4, 5, 6, 7, 8, 9, 10]"
      ]
     },
     "execution_count": 2,
     "metadata": {},
     "output_type": "execute_result"
    }
   ],
   "source": [
    "lista1 = list(range(1, 11))\n",
    "lista1"
   ]
  },
  {
   "cell_type": "markdown",
   "metadata": {
    "id": "vin2EVtLwQtD"
   },
   "source": [
    "### Transformando la Lista a un Array"
   ]
  },
  {
   "cell_type": "markdown",
   "metadata": {
    "id": "u7-6diiiymaL"
   },
   "source": [
    "*Recordar que un array es una estructura propia de la libreria Numpy*"
   ]
  },
  {
   "cell_type": "code",
   "execution_count": null,
   "metadata": {
    "id": "r0nFarMLjBgZ"
   },
   "outputs": [],
   "source": [
    "arreglo = np.array(lista1)\n",
    "arreglo"
   ]
  },
  {
   "cell_type": "markdown",
   "metadata": {
    "id": "XQfQtqM1kFNA"
   },
   "source": [
    "### Consultando la cantidad de memoria ocupada por estractura"
   ]
  },
  {
   "cell_type": "code",
   "execution_count": null,
   "metadata": {
    "id": "5liidntqkF-o"
   },
   "outputs": [],
   "source": [
    "memoria_lista = sys.getsizeof(lista1)\n",
    "memoria_arreglo = arreglo.nbytes\n",
    "\n",
    "print(f\"Memoria ocupada por lista : {memoria_lista} bytes\")\n",
    "print(f\"Memoria ocupada por array : {memoria_arreglo} bytes\")"
   ]
  },
  {
   "cell_type": "markdown",
   "metadata": {
    "id": "wveTidy8joaA"
   },
   "source": [
    "### Sacar el promedio de la Lista"
   ]
  },
  {
   "cell_type": "code",
   "execution_count": null,
   "metadata": {
    "id": "dF3SiPI1jdwI"
   },
   "outputs": [],
   "source": [
    "promedio_int = np.mean(lista1)\n",
    "promedio_int"
   ]
  },
  {
   "cell_type": "markdown",
   "metadata": {
    "id": "zD2LNDZ2ri_x"
   },
   "source": [
    "### Crear una lista de solo numeros unos"
   ]
  },
  {
   "cell_type": "code",
   "execution_count": null,
   "metadata": {
    "id": "_F1bDI8srmb6"
   },
   "outputs": [],
   "source": [
    "unos = np.ones(100)\n",
    "unos"
   ]
  },
  {
   "cell_type": "markdown",
   "metadata": {
    "id": "3gYnFsxsr8E5"
   },
   "source": [
    "### Crear una lista de solo ceros\n",
    "\n"
   ]
  },
  {
   "cell_type": "code",
   "execution_count": null,
   "metadata": {
    "id": "i6X3-ta4rz1a"
   },
   "outputs": [],
   "source": [
    "ceros = np.zeros(100)\n",
    "ceros"
   ]
  },
  {
   "cell_type": "markdown",
   "metadata": {
    "id": "HEdfQ3AuuKJa"
   },
   "source": [
    "### Consultando el tipo de dato numerico del arreglo"
   ]
  },
  {
   "cell_type": "code",
   "execution_count": null,
   "metadata": {
    "id": "r3lzHlhOuZky"
   },
   "outputs": [],
   "source": [
    "arreglo.dtype"
   ]
  },
  {
   "cell_type": "markdown",
   "metadata": {
    "id": "qggBw1Aik5IB"
   },
   "source": [
    "### Lista de Datos Compuestos (Transformando a Array)"
   ]
  },
  {
   "cell_type": "code",
   "execution_count": null,
   "metadata": {
    "id": "e91aJvP9k4u4"
   },
   "outputs": [],
   "source": [
    "lista2 = ['Marco', 2, 5.6, True]\n",
    "lista2"
   ]
  },
  {
   "cell_type": "markdown",
   "metadata": {
    "id": "3nq9rjgOzGdM"
   },
   "source": [
    "### Transformando la lista mixta en array"
   ]
  },
  {
   "cell_type": "code",
   "execution_count": null,
   "metadata": {
    "id": "rFpS3Wwwlevw"
   },
   "outputs": [],
   "source": [
    "arreglo2 = np.array(lista2)\n",
    "arreglo2"
   ]
  },
  {
   "cell_type": "markdown",
   "metadata": {
    "id": "0B-VwL3XwrkT"
   },
   "source": [
    "### Otros metodos de numpy"
   ]
  },
  {
   "cell_type": "code",
   "execution_count": 4,
   "metadata": {
    "colab": {
     "base_uri": "https://localhost:8080/",
     "height": 211
    },
    "collapsed": true,
    "executionInfo": {
     "elapsed": 59,
     "status": "error",
     "timestamp": 1750883781570,
     "user": {
      "displayName": "Marco Antonio Saldivia Mansilla",
      "userId": "16213939124838125821"
     },
     "user_tz": 240
    },
    "id": "Ewv5sNHpwxGT",
    "outputId": "46e653d1-ce42-4ad4-fe14-1a28f95bdaa3"
   },
   "outputs": [
    {
     "ename": "NameError",
     "evalue": "name 'arreglo' is not defined",
     "output_type": "error",
     "traceback": [
      "\u001b[0;31m---------------------------------------------------------------------------\u001b[0m",
      "\u001b[0;31mNameError\u001b[0m                                 Traceback (most recent call last)",
      "\u001b[0;32m/tmp/ipython-input-4-2175492046.py\u001b[0m in \u001b[0;36m<cell line: 0>\u001b[0;34m()\u001b[0m\n\u001b[0;32m----> 1\u001b[0;31m \u001b[0mprint\u001b[0m\u001b[0;34m(\u001b[0m\u001b[0;34m\"Shape:\"\u001b[0m\u001b[0;34m,\u001b[0m \u001b[0marreglo\u001b[0m\u001b[0;34m.\u001b[0m\u001b[0mshape\u001b[0m\u001b[0;34m)\u001b[0m\u001b[0;34m\u001b[0m\u001b[0;34m\u001b[0m\u001b[0m\n\u001b[0m\u001b[1;32m      2\u001b[0m \u001b[0mprint\u001b[0m\u001b[0;34m(\u001b[0m\u001b[0;34m\"Dimensiones:\"\u001b[0m\u001b[0;34m,\u001b[0m \u001b[0marreglo\u001b[0m\u001b[0;34m.\u001b[0m\u001b[0mndim\u001b[0m\u001b[0;34m)\u001b[0m\u001b[0;34m\u001b[0m\u001b[0;34m\u001b[0m\u001b[0m\n\u001b[1;32m      3\u001b[0m \u001b[0mprint\u001b[0m\u001b[0;34m(\u001b[0m\u001b[0;34m\"Tmaño:\"\u001b[0m\u001b[0;34m,\u001b[0m \u001b[0marreglo\u001b[0m\u001b[0;34m.\u001b[0m\u001b[0msize\u001b[0m\u001b[0;34m)\u001b[0m\u001b[0;34m\u001b[0m\u001b[0;34m\u001b[0m\u001b[0m\n\u001b[1;32m      4\u001b[0m \u001b[0mprint\u001b[0m\u001b[0;34m(\u001b[0m\u001b[0;34m\"Tipo dato:\"\u001b[0m\u001b[0;34m,\u001b[0m \u001b[0marreglo\u001b[0m\u001b[0;34m.\u001b[0m\u001b[0mdtype\u001b[0m\u001b[0;34m)\u001b[0m\u001b[0;34m\u001b[0m\u001b[0;34m\u001b[0m\u001b[0m\n\u001b[1;32m      5\u001b[0m \u001b[0mprint\u001b[0m\u001b[0;34m(\u001b[0m\u001b[0;34m\"Bytes/elem:\"\u001b[0m\u001b[0;34m,\u001b[0m \u001b[0marreglo\u001b[0m\u001b[0;34m.\u001b[0m\u001b[0mitemsize\u001b[0m\u001b[0;34m)\u001b[0m\u001b[0;34m\u001b[0m\u001b[0;34m\u001b[0m\u001b[0m\n",
      "\u001b[0;31mNameError\u001b[0m: name 'arreglo' is not defined"
     ]
    }
   ],
   "source": [
    "print(\"Shape:\", arreglo.shape)\n",
    "print(\"Dimensiones:\", arreglo.ndim)\n",
    "print(\"Tamaño:\", arreglo.size)\n",
    "print(\"Tipo dato:\", arreglo.dtype)\n",
    "print(\"Bytes/elem:\", arreglo.itemsize)"
   ]
  },
  {
   "cell_type": "markdown",
   "metadata": {
    "id": "UbUIWcUj07hr"
   },
   "source": [
    "### Consultando la cantidad de memoria ocupada por estuctura (Paquete Sys)"
   ]
  },
  {
   "cell_type": "code",
   "execution_count": null,
   "metadata": {
    "id": "cy_7-6Zp1GCj"
   },
   "outputs": [],
   "source": [
    "memoria_lista = sys.getsizeof(lista1)\n",
    "memoria_arreglo = arreglo.nbytes\n",
    "\n",
    "print(f\"Memoria ocupada por la lista: {memoria_lista} bytes\")\n",
    "print(f\"Memoria ocupada por la lista: {memoria_arreglo} bytes\")"
   ]
  },
  {
   "cell_type": "markdown",
   "metadata": {
    "id": "Siyxy6DgyFhr"
   },
   "source": [
    "### Transformando el arreglo de Int del Float"
   ]
  },
  {
   "cell_type": "markdown",
   "metadata": {
    "id": "YHccHgNDyyHD"
   },
   "source": [
    "Se puede especificar el tipo de n° flotante"
   ]
  },
  {
   "cell_type": "code",
   "execution_count": null,
   "metadata": {
    "id": "dW68jXPwyTDL"
   },
   "outputs": [],
   "source": [
    "new_arreglo = arreglo.astype.float(64)\n",
    "new_arreglo"
   ]
  },
  {
   "cell_type": "markdown",
   "metadata": {
    "id": "jiuDB9q8z4jU"
   },
   "source": [
    "### Aplicando el Paquete Random"
   ]
  },
  {
   "cell_type": "markdown",
   "metadata": {
    "id": "vWtFAfSZ0AFb"
   },
   "source": [
    "*Se genera una lista de numeros enteros aleatorios, que van desde el 1 al 100*"
   ]
  },
  {
   "cell_type": "code",
   "execution_count": null,
   "metadata": {
    "id": "k5cpyf48z-uL"
   },
   "outputs": [],
   "source": [
    "np.random.rand() # Genera numeros aleatorios del rango [0, 1]"
   ]
  },
  {
   "cell_type": "code",
   "execution_count": null,
   "metadata": {
    "id": "2GwjdysV0Q_z"
   },
   "outputs": [],
   "source": [
    "np.random.rand(5) # Genera numeros aleatorios de n cantidad"
   ]
  },
  {
   "cell_type": "code",
   "execution_count": null,
   "metadata": {
    "id": "zzSPuywz1nXz"
   },
   "outputs": [],
   "source": [
    "np.random.rand(1, 10, 4)"
   ]
  },
  {
   "cell_type": "code",
   "execution_count": null,
   "metadata": {
    "id": "14hLH2C31zkz"
   },
   "outputs": [],
   "source": [
    "np.random.randint(1, 100 , 10) # Generando numeros enteros aleatorios del 1 al 100"
   ]
  },
  {
   "cell_type": "markdown",
   "metadata": {
    "id": "lj3pQYln3Glt"
   },
   "source": [
    "### Metodo Arange"
   ]
  },
  {
   "cell_type": "code",
   "execution_count": null,
   "metadata": {
    "id": "OKJ8DtnB3NXt"
   },
   "outputs": [],
   "source": [
    "arreglo_3 = np.arange(1, 11)\n",
    "arreglo_3"
   ]
  }
 ],
 "metadata": {
  "colab": {
   "authorship_tag": "ABX9TyN6ckdHqKS5HSGPifrgYgoJ",
   "collapsed_sections": [
    "6SnoDQ49wHaL",
    "vin2EVtLwQtD",
    "XQfQtqM1kFNA",
    "wveTidy8joaA",
    "zD2LNDZ2ri_x",
    "3gYnFsxsr8E5",
    "HEdfQ3AuuKJa",
    "qggBw1Aik5IB",
    "3nq9rjgOzGdM",
    "0B-VwL3XwrkT",
    "UbUIWcUj07hr",
    "Siyxy6DgyFhr",
    "jiuDB9q8z4jU"
   ],
   "provenance": [],
   "toc_visible": true
  },
  "kernelspec": {
   "display_name": "Python 3",
   "name": "python3"
  },
  "language_info": {
   "name": "python"
  }
 },
 "nbformat": 4,
 "nbformat_minor": 0
}
